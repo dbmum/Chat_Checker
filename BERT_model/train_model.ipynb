{
  "cells": [
    {
      "cell_type": "markdown",
      "metadata": {},
      "source": [
        "**This file is meant to be run on google colab to take use of the free resources as model saving.**"
      ]
    },
    {
      "cell_type": "code",
      "execution_count": null,
      "metadata": {
        "colab": {
          "base_uri": "https://localhost:8080/"
        },
        "id": "8HgpKxEklsl8",
        "outputId": "aeac10a9-1eb2-4150-82b1-a447238b5d97"
      },
      "outputs": [],
      "source": [
        "from google.colab import drive\n",
        "import datetime\n",
        "\n",
        "# Mount Google Drive\n",
        "drive.mount('/content/gdrive')"
      ]
    },
    {
      "cell_type": "code",
      "execution_count": null,
      "metadata": {
        "colab": {
          "base_uri": "https://localhost:8080/",
          "height": 1000
        },
        "id": "G_pN9qwjQ5AS",
        "outputId": "45e47934-a22f-418e-8079-85c1c068ccf5"
      },
      "outputs": [],
      "source": [
        "\n",
        "import pandas as pd\n",
        "\n",
        "# Replace with the actual file path\n",
        "df = pd.read_parquet('/content/gdrive/MyDrive/chat_checker/Data/articles.parquet')\n",
        "df\n",
        "\n"
      ]
    },
    {
      "cell_type": "code",
      "execution_count": null,
      "metadata": {
        "colab": {
          "base_uri": "https://localhost:8080/",
          "height": 424
        },
        "id": "M-5kIX2EiFGP",
        "outputId": "9da4648a-5a91-4266-dd40-718b6315ddad"
      },
      "outputs": [],
      "source": [
        "\n",
        "# Create a new DataFrame with only the 'title', 'Content', and 'generated_content' columns\n",
        "new_df = df[['Title', 'Content', 'generated_content']]\n",
        "\n",
        "# Melt the DataFrame to reshape it into a long format\n",
        "long_df = new_df.melt(id_vars='Title', value_vars=['Content', 'generated_content'], var_name='source', value_name='text')\n",
        "\n",
        "# Create a binary label to indicate whether the text is from the 'Content' or 'generated_content' column\n",
        "long_df['label'] = long_df['source'].apply(lambda x: 1 if x == 'Content' else 0)\n",
        "\n",
        "# Drop the 'source' column as it is no longer needed\n",
        "long_df = long_df.drop(columns=['source'])\n",
        "\n",
        "# Display the resulting long DataFrame\n",
        "long_df\n"
      ]
    },
    {
      "cell_type": "code",
      "execution_count": null,
      "metadata": {
        "id": "asdkwIz3Ndu7"
      },
      "outputs": [],
      "source": [
        "import torch\n",
        "import torch.nn as nn\n",
        "from transformers import BertModel, BertTokenizer, AdamW\n",
        "from torch.utils.data import DataLoader, TensorDataset\n",
        "from sklearn.model_selection import train_test_split\n",
        "from sklearn.metrics import accuracy_score\n",
        "\n",
        "\n",
        "# Replace this with your actual dataset loading code\n",
        "texts = long_df.text.to_list()\n",
        "labels = long_df.label.to_list()\n",
        "\n",
        "# Split the dataset into training and testing sets\n",
        "train_texts, test_texts, train_labels, test_labels = train_test_split(texts, labels, test_size=0.25, random_state=42)\n",
        "\n",
        "# Tokenize the text data\n",
        "tokenizer = BertTokenizer.from_pretrained('bert-base-uncased')\n",
        "train_encodings = tokenizer(train_texts, truncation=True, padding=True, return_tensors='pt')\n",
        "test_encodings = tokenizer(test_texts, truncation=True, padding=True, return_tensors='pt')\n",
        "\n",
        "train_labels = torch.tensor(train_labels)\n",
        "test_labels = torch.tensor(test_labels)\n",
        "\n",
        "# Create DataLoader for training and testing sets\n",
        "train_dataset = TensorDataset(train_encodings['input_ids'], train_encodings['attention_mask'], train_labels)\n",
        "test_dataset = TensorDataset(test_encodings['input_ids'], test_encodings['attention_mask'], test_labels)\n",
        "\n",
        "train_dataloader = DataLoader(train_dataset, batch_size=4, shuffle=True)\n",
        "test_dataloader = DataLoader(test_dataset, batch_size=4, shuffle=False)\n",
        "\n",
        "# Define the TransformerBinaryClassifier model\n",
        "class TransformerBinaryClassifier(nn.Module):\n",
        "    def __init__(self, pretrained_model_name='bert-base-uncased', hidden_size=768, num_classes=2):\n",
        "        super(TransformerBinaryClassifier, self).__init__()\n",
        "        self.bert = BertModel.from_pretrained(pretrained_model_name)\n",
        "        self.dropout = nn.Dropout(0.1)\n",
        "        self.fc = nn.Linear(hidden_size, num_classes)\n",
        "        self.softmax = nn.Softmax(dim=1)\n",
        "\n",
        "    def forward(self, input_ids, attention_mask):\n",
        "        outputs = self.bert(input_ids, attention_mask=attention_mask)\n",
        "        pooled_output = outputs['pooler_output']\n",
        "        pooled_output = self.dropout(pooled_output)\n",
        "        logits = self.fc(pooled_output)\n",
        "        probabilities = self.softmax(logits)\n",
        "        return probabilities\n",
        "\n",
        "    # Evaluation on the test set\n",
        "def model_eval(model, test_dataloader):\n",
        "    model.eval()\n",
        "    all_preds = []\n",
        "    all_labels = []\n",
        "    with torch.no_grad():\n",
        "        for batch in test_dataloader:\n",
        "            input_ids, attention_mask, labels = batch\n",
        "            outputs = model(input_ids, attention_mask)\n",
        "            _, preds = torch.max(outputs, dim=1)\n",
        "            all_preds.extend(preds.tolist())\n",
        "            all_labels.extend(labels.tolist())\n",
        "\n",
        "    # Calculate accuracy\n",
        "    accuracy = accuracy_score(all_labels, all_preds)\n",
        "    print(\"Test Accuracy:\", accuracy)\n",
        "    return accuracy\n",
        "\n"
      ]
    },
    {
      "cell_type": "code",
      "execution_count": null,
      "metadata": {
        "colab": {
          "base_uri": "https://localhost:8080/",
          "height": 388,
          "referenced_widgets": [
            "1c01b8e329f74a0e9d309f369e82e149",
            "368e5b4e550942b89fb8f599c0d50da5",
            "ee578cb08a7c45c89f6d9899e6fd3983",
            "9fbe6a2cf46e4ff9b1e540d767b3ea92",
            "05cf7d349c2041f2875f47d8888e66d1",
            "71b0955542dd47cd8a7354f7867c108e",
            "9ee26d6f51704f06bbacdb3f85c9d58f",
            "f5b32f6fce27478db025c916fa833302",
            "2e81a9e2da7940a7be1f2f644d1e91b7",
            "154d091a24c1422fb9aad5805ce6bf0a",
            "4d5860bc4fb946ba8c965de1ebb76e19"
          ]
        },
        "id": "5Kz_C_hwlPrv",
        "outputId": "1413551c-61eb-434d-8475-0a26ee1cf467"
      },
      "outputs": [],
      "source": [
        "# Run this to test that the file path is correct\n",
        "model = TransformerBinaryClassifier()\n",
        "model_eval(model, test_dataloader)\n",
        "model_save_path = f'/content/gdrive/My Drive/chat_checker/final_weights/bert_binary_classifier.pth' #Your Path\n",
        "torch.save(model.state_dict(), model_save_path)"
      ]
    },
    {
      "cell_type": "code",
      "execution_count": null,
      "metadata": {
        "colab": {
          "base_uri": "https://localhost:8080/"
        },
        "id": "EiWhig_soIBo",
        "outputId": "70bd2966-6ddd-4d12-f1db-a7899a1c9d91"
      },
      "outputs": [],
      "source": [
        "# Instantiate the model\n",
        "model = TransformerBinaryClassifier()\n",
        "\n",
        "# Define optimizer and loss function\n",
        "optimizer = AdamW(model.parameters(), lr=1e-5)\n",
        "criterion = nn.CrossEntropyLoss()\n",
        "\n",
        "# Training loop\n",
        "num_epochs = 10\n",
        "for epoch in range(num_epochs):\n",
        "    print(f'Epoch: {epoch}')\n",
        "    model.train()\n",
        "    for batch in train_dataloader:\n",
        "        input_ids, attention_mask, labels = batch\n",
        "        optimizer.zero_grad()\n",
        "        outputs = model(input_ids, attention_mask)\n",
        "        loss = criterion(outputs, labels)\n",
        "        loss.backward()\n",
        "        optimizer.step()\n",
        "\n",
        "    # After training\n",
        "\n",
        "    model_eval(model, test_dataloader)\n",
        "\n",
        "\n",
        "\n",
        "    model_save_path = f'/content/gdrive/My Drive/Senior_Project/final_weights/{accuracy}bert_binary_classifier-epoch-{epoch}.pth'\n",
        "    torch.save(model.state_dict(), model_save_path)"
      ]
    },
    {
      "cell_type": "code",
      "execution_count": null,
      "metadata": {
        "id": "WGQk5W1t3UGp"
      },
      "outputs": [],
      "source": [
        "# Just save a model that is still in your session\n",
        "model_save_path = f'/content/gdrive/My Drive/Senior_Project/final_weights/bert_binary_classifier-epoch-end.pth'\n",
        "torch.save(model.state_dict(), model_save_path)"
      ]
    },
    {
      "cell_type": "code",
      "execution_count": null,
      "metadata": {
        "colab": {
          "base_uri": "https://localhost:8080/"
        },
        "id": "t3Syk0AJlOoP",
        "outputId": "c6e06397-2673-47bc-d295-f6260bc3b4d2"
      },
      "outputs": [],
      "source": [
        "# Test loading your model\n",
        "loaded_model = TransformerBinaryClassifier()\n",
        "loaded_model.load_state_dict(torch.load('bert_binary_classifier.pth'))\n",
        "loaded_model.eval()"
      ]
    },
    {
      "cell_type": "markdown",
      "metadata": {
        "id": "R-84TVevsyPY"
      },
      "source": [
        "## Load exisiting model to continue training"
      ]
    },
    {
      "cell_type": "code",
      "execution_count": null,
      "metadata": {
        "colab": {
          "base_uri": "https://localhost:8080/"
        },
        "id": "njg7wW0lsxtb",
        "outputId": "31d8654b-e817-43c9-95d3-8e5eb2aef206"
      },
      "outputs": [],
      "source": [
        "model = TransformerBinaryClassifier()\n",
        "model.load_state_dict(torch.load('/content/gdrive/My Drive/Senior_Project/final_weights/0.9950835791543756bert_binary_classifier-epoch-0.pth'))\n",
        "# Define optimizer and loss function\n",
        "optimizer = AdamW(model.parameters(), lr=1e-5)\n",
        "criterion = nn.CrossEntropyLoss()\n",
        "\n",
        "epoch = 1\n",
        "print(f'Epoch: {epoch}')\n",
        "model.train()\n",
        "for batch in train_dataloader:\n",
        "    input_ids, attention_mask, labels = batch\n",
        "    optimizer.zero_grad()\n",
        "    outputs = model(input_ids, attention_mask)\n",
        "    loss = criterion(outputs, labels)\n",
        "    loss.backward()\n",
        "    optimizer.step()\n",
        "\n",
        "# After training\n",
        "\n",
        "accuracy = model_eval(model, test_dataloader)\n",
        "\n",
        "\n",
        "\n",
        "model_save_path = f'/content/gdrive/My Drive/Senior_Project/final_weights/{accuracy}bert_binary_classifier-epoch-{epoch}.pth'\n",
        "torch.save(model.state_dict(), model_save_path)"
      ]
    }
  ],
  "metadata": {
    "accelerator": "GPU",
    "colab": {
      "gpuType": "T4",
      "provenance": []
    },
    "kernelspec": {
      "display_name": "Python 3",
      "name": "python3"
    },
    "language_info": {
      "name": "python"
    },
    "widgets": {
      "application/vnd.jupyter.widget-state+json": {
        "05cf7d349c2041f2875f47d8888e66d1": {
          "model_module": "@jupyter-widgets/base",
          "model_module_version": "1.2.0",
          "model_name": "LayoutModel",
          "state": {
            "_model_module": "@jupyter-widgets/base",
            "_model_module_version": "1.2.0",
            "_model_name": "LayoutModel",
            "_view_count": null,
            "_view_module": "@jupyter-widgets/base",
            "_view_module_version": "1.2.0",
            "_view_name": "LayoutView",
            "align_content": null,
            "align_items": null,
            "align_self": null,
            "border": null,
            "bottom": null,
            "display": null,
            "flex": null,
            "flex_flow": null,
            "grid_area": null,
            "grid_auto_columns": null,
            "grid_auto_flow": null,
            "grid_auto_rows": null,
            "grid_column": null,
            "grid_gap": null,
            "grid_row": null,
            "grid_template_areas": null,
            "grid_template_columns": null,
            "grid_template_rows": null,
            "height": null,
            "justify_content": null,
            "justify_items": null,
            "left": null,
            "margin": null,
            "max_height": null,
            "max_width": null,
            "min_height": null,
            "min_width": null,
            "object_fit": null,
            "object_position": null,
            "order": null,
            "overflow": null,
            "overflow_x": null,
            "overflow_y": null,
            "padding": null,
            "right": null,
            "top": null,
            "visibility": null,
            "width": null
          }
        },
        "154d091a24c1422fb9aad5805ce6bf0a": {
          "model_module": "@jupyter-widgets/base",
          "model_module_version": "1.2.0",
          "model_name": "LayoutModel",
          "state": {
            "_model_module": "@jupyter-widgets/base",
            "_model_module_version": "1.2.0",
            "_model_name": "LayoutModel",
            "_view_count": null,
            "_view_module": "@jupyter-widgets/base",
            "_view_module_version": "1.2.0",
            "_view_name": "LayoutView",
            "align_content": null,
            "align_items": null,
            "align_self": null,
            "border": null,
            "bottom": null,
            "display": null,
            "flex": null,
            "flex_flow": null,
            "grid_area": null,
            "grid_auto_columns": null,
            "grid_auto_flow": null,
            "grid_auto_rows": null,
            "grid_column": null,
            "grid_gap": null,
            "grid_row": null,
            "grid_template_areas": null,
            "grid_template_columns": null,
            "grid_template_rows": null,
            "height": null,
            "justify_content": null,
            "justify_items": null,
            "left": null,
            "margin": null,
            "max_height": null,
            "max_width": null,
            "min_height": null,
            "min_width": null,
            "object_fit": null,
            "object_position": null,
            "order": null,
            "overflow": null,
            "overflow_x": null,
            "overflow_y": null,
            "padding": null,
            "right": null,
            "top": null,
            "visibility": null,
            "width": null
          }
        },
        "1c01b8e329f74a0e9d309f369e82e149": {
          "model_module": "@jupyter-widgets/controls",
          "model_module_version": "1.5.0",
          "model_name": "HBoxModel",
          "state": {
            "_dom_classes": [],
            "_model_module": "@jupyter-widgets/controls",
            "_model_module_version": "1.5.0",
            "_model_name": "HBoxModel",
            "_view_count": null,
            "_view_module": "@jupyter-widgets/controls",
            "_view_module_version": "1.5.0",
            "_view_name": "HBoxView",
            "box_style": "",
            "children": [
              "IPY_MODEL_368e5b4e550942b89fb8f599c0d50da5",
              "IPY_MODEL_ee578cb08a7c45c89f6d9899e6fd3983",
              "IPY_MODEL_9fbe6a2cf46e4ff9b1e540d767b3ea92"
            ],
            "layout": "IPY_MODEL_05cf7d349c2041f2875f47d8888e66d1"
          }
        },
        "2e81a9e2da7940a7be1f2f644d1e91b7": {
          "model_module": "@jupyter-widgets/controls",
          "model_module_version": "1.5.0",
          "model_name": "ProgressStyleModel",
          "state": {
            "_model_module": "@jupyter-widgets/controls",
            "_model_module_version": "1.5.0",
            "_model_name": "ProgressStyleModel",
            "_view_count": null,
            "_view_module": "@jupyter-widgets/base",
            "_view_module_version": "1.2.0",
            "_view_name": "StyleView",
            "bar_color": null,
            "description_width": ""
          }
        },
        "368e5b4e550942b89fb8f599c0d50da5": {
          "model_module": "@jupyter-widgets/controls",
          "model_module_version": "1.5.0",
          "model_name": "HTMLModel",
          "state": {
            "_dom_classes": [],
            "_model_module": "@jupyter-widgets/controls",
            "_model_module_version": "1.5.0",
            "_model_name": "HTMLModel",
            "_view_count": null,
            "_view_module": "@jupyter-widgets/controls",
            "_view_module_version": "1.5.0",
            "_view_name": "HTMLView",
            "description": "",
            "description_tooltip": null,
            "layout": "IPY_MODEL_71b0955542dd47cd8a7354f7867c108e",
            "placeholder": "​",
            "style": "IPY_MODEL_9ee26d6f51704f06bbacdb3f85c9d58f",
            "value": "model.safetensors: 100%"
          }
        },
        "4d5860bc4fb946ba8c965de1ebb76e19": {
          "model_module": "@jupyter-widgets/controls",
          "model_module_version": "1.5.0",
          "model_name": "DescriptionStyleModel",
          "state": {
            "_model_module": "@jupyter-widgets/controls",
            "_model_module_version": "1.5.0",
            "_model_name": "DescriptionStyleModel",
            "_view_count": null,
            "_view_module": "@jupyter-widgets/base",
            "_view_module_version": "1.2.0",
            "_view_name": "StyleView",
            "description_width": ""
          }
        },
        "71b0955542dd47cd8a7354f7867c108e": {
          "model_module": "@jupyter-widgets/base",
          "model_module_version": "1.2.0",
          "model_name": "LayoutModel",
          "state": {
            "_model_module": "@jupyter-widgets/base",
            "_model_module_version": "1.2.0",
            "_model_name": "LayoutModel",
            "_view_count": null,
            "_view_module": "@jupyter-widgets/base",
            "_view_module_version": "1.2.0",
            "_view_name": "LayoutView",
            "align_content": null,
            "align_items": null,
            "align_self": null,
            "border": null,
            "bottom": null,
            "display": null,
            "flex": null,
            "flex_flow": null,
            "grid_area": null,
            "grid_auto_columns": null,
            "grid_auto_flow": null,
            "grid_auto_rows": null,
            "grid_column": null,
            "grid_gap": null,
            "grid_row": null,
            "grid_template_areas": null,
            "grid_template_columns": null,
            "grid_template_rows": null,
            "height": null,
            "justify_content": null,
            "justify_items": null,
            "left": null,
            "margin": null,
            "max_height": null,
            "max_width": null,
            "min_height": null,
            "min_width": null,
            "object_fit": null,
            "object_position": null,
            "order": null,
            "overflow": null,
            "overflow_x": null,
            "overflow_y": null,
            "padding": null,
            "right": null,
            "top": null,
            "visibility": null,
            "width": null
          }
        },
        "9ee26d6f51704f06bbacdb3f85c9d58f": {
          "model_module": "@jupyter-widgets/controls",
          "model_module_version": "1.5.0",
          "model_name": "DescriptionStyleModel",
          "state": {
            "_model_module": "@jupyter-widgets/controls",
            "_model_module_version": "1.5.0",
            "_model_name": "DescriptionStyleModel",
            "_view_count": null,
            "_view_module": "@jupyter-widgets/base",
            "_view_module_version": "1.2.0",
            "_view_name": "StyleView",
            "description_width": ""
          }
        },
        "9fbe6a2cf46e4ff9b1e540d767b3ea92": {
          "model_module": "@jupyter-widgets/controls",
          "model_module_version": "1.5.0",
          "model_name": "HTMLModel",
          "state": {
            "_dom_classes": [],
            "_model_module": "@jupyter-widgets/controls",
            "_model_module_version": "1.5.0",
            "_model_name": "HTMLModel",
            "_view_count": null,
            "_view_module": "@jupyter-widgets/controls",
            "_view_module_version": "1.5.0",
            "_view_name": "HTMLView",
            "description": "",
            "description_tooltip": null,
            "layout": "IPY_MODEL_154d091a24c1422fb9aad5805ce6bf0a",
            "placeholder": "​",
            "style": "IPY_MODEL_4d5860bc4fb946ba8c965de1ebb76e19",
            "value": " 440M/440M [00:04&lt;00:00, 77.8MB/s]"
          }
        },
        "ee578cb08a7c45c89f6d9899e6fd3983": {
          "model_module": "@jupyter-widgets/controls",
          "model_module_version": "1.5.0",
          "model_name": "FloatProgressModel",
          "state": {
            "_dom_classes": [],
            "_model_module": "@jupyter-widgets/controls",
            "_model_module_version": "1.5.0",
            "_model_name": "FloatProgressModel",
            "_view_count": null,
            "_view_module": "@jupyter-widgets/controls",
            "_view_module_version": "1.5.0",
            "_view_name": "ProgressView",
            "bar_style": "success",
            "description": "",
            "description_tooltip": null,
            "layout": "IPY_MODEL_f5b32f6fce27478db025c916fa833302",
            "max": 440449768,
            "min": 0,
            "orientation": "horizontal",
            "style": "IPY_MODEL_2e81a9e2da7940a7be1f2f644d1e91b7",
            "value": 440449768
          }
        },
        "f5b32f6fce27478db025c916fa833302": {
          "model_module": "@jupyter-widgets/base",
          "model_module_version": "1.2.0",
          "model_name": "LayoutModel",
          "state": {
            "_model_module": "@jupyter-widgets/base",
            "_model_module_version": "1.2.0",
            "_model_name": "LayoutModel",
            "_view_count": null,
            "_view_module": "@jupyter-widgets/base",
            "_view_module_version": "1.2.0",
            "_view_name": "LayoutView",
            "align_content": null,
            "align_items": null,
            "align_self": null,
            "border": null,
            "bottom": null,
            "display": null,
            "flex": null,
            "flex_flow": null,
            "grid_area": null,
            "grid_auto_columns": null,
            "grid_auto_flow": null,
            "grid_auto_rows": null,
            "grid_column": null,
            "grid_gap": null,
            "grid_row": null,
            "grid_template_areas": null,
            "grid_template_columns": null,
            "grid_template_rows": null,
            "height": null,
            "justify_content": null,
            "justify_items": null,
            "left": null,
            "margin": null,
            "max_height": null,
            "max_width": null,
            "min_height": null,
            "min_width": null,
            "object_fit": null,
            "object_position": null,
            "order": null,
            "overflow": null,
            "overflow_x": null,
            "overflow_y": null,
            "padding": null,
            "right": null,
            "top": null,
            "visibility": null,
            "width": null
          }
        }
      }
    }
  },
  "nbformat": 4,
  "nbformat_minor": 0
}
